{
 "cells": [
  {
   "cell_type": "code",
   "execution_count": 4,
   "id": "91ecb85e",
   "metadata": {},
   "outputs": [
    {
     "name": "stdout",
     "output_type": "stream",
     "text": [
      "[-1.48642857  5.77071429]\n"
     ]
    },
    {
     "data": {
      "image/png": "[encoded data removed]",
      "text/plain": [
       "<Figure size 432x288 with 1 Axes>"
      ]
     },
     "metadata": {
      "needs_background": "light"
     },
     "output_type": "display_data"
    }
   ],
   "source": [
    "import pandas as pd\n",
    "import numpy as np\n",
    "from scipy.optimize import curve_fit\n",
    "import matplotlib.pyplot as plt\n",
    "\n",
    "e = 1.60217663*(10**-19) #charge of an electron in coulombs\n",
    "A_f = np.pi*(0.0127**2) #area of the detector calculated in meters\n",
    "n_i = 1*(10**6) #inital electron population for each energy level\n",
    "e_m = 9.1093837*(10**-31) #mass of an electron in kg\n",
    "\n",
    "f = open(\"0_degrees_from_centerline.txt\", \"r\")\n",
    "g = open(\"Energy_response_ERPA_ADC.txt\", \"r\")\n",
    "#simulation results and lab testing results \n",
    "\n",
    "percentages = []\n",
    "for line in f:\n",
    "    percentages.append(float(line.rstrip()))\n",
    "f.close\n",
    "\n",
    "def average(lst): \n",
    "    return sum(lst) / len(lst)\n",
    "\n",
    "averages = []\n",
    "all_response = []\n",
    "hold = []\n",
    "i = 0\n",
    "for line in g:\n",
    "    all_response.append(float(line.rstrip()))\n",
    "for i in range(len(all_response)):\n",
    "    hold.append(all_response[i])\n",
    "    i+=1\n",
    "    if len(hold) == 15:\n",
    "        averages.append(average(hold))\n",
    "        hold = []\n",
    "g.close\n",
    "#print(averages)\n",
    "#The above code averages the lab testing results at each selection screen value to be able to compare to the simulation\n",
    "#results that are not able to be separated by energy level. This method will likley be disregarded\n",
    "\n",
    "def current_response(x, B, A):\n",
    "    return (B*x + A)\n",
    "#an equation for a line of best fit, y=mx + b\n",
    "x = np.array([0.5,1,1.5,2,2.5,3,3.5,4])\n",
    "#data from Sanj, instrument response in nA\n",
    "y = np.array([4.85,4.32,3.77,3.22,1.62,1.07,0.55,0.01])\n",
    "#instrument response in Volts as read off the ERPA ADC\n",
    "popt, pcov = curve_fit(current_response, x, y)\n",
    "print(popt)\n",
    "#calculate the \"m\" and \"b\" in y=mx + b\n",
    "best_fit = []\n",
    "for i in range(0,8,1):\n",
    "    best_fit.append(current_response(x[i],popt[0],popt[1]))\n",
    "for i in range(0,8,1):\n",
    "    plt.scatter(x[i], y[i])\n",
    "plt.plot(x,best_fit)\n",
    "plt.show\n",
    "#print the line of best fit over a scatter plot of the x and y values\n",
    "\n",
    "#This is a function based on the geometric factor equation from Johnstone et. al. (1987)\n",
    "#in this form, this function must be called once for each flux and corresponding weighting factor you wish to sum over\n",
    "def geofactor (E, theta, phi, V, T, N_b, S_b):\n",
    "    #E is energy range, theta and phi are the angle ranges, V is the instrument response in volts, I_0 is the standard current,\n",
    "    #T is detection time, N_b is flux, and S_b is the weighting factor\n",
    "    v = np.sqrt(E/e_m)\n",
    "    #convert (kinetic) energy to a particle speed\n",
    "    I_0 = (V - popt[1]/popt[0])\n",
    "    #convert instrument response in voltage to current in nA\n",
    "    GF = e*A_f*v*theta*phi*N_b*S_b/(I_0*T)\n",
    "    return GF"
   ]
  },
  {
   "cell_type": "code",
   "execution_count": null,
   "id": "281e0e46",
   "metadata": {},
   "outputs": [],
   "source": []
  }
 ],
 "metadata": {
  "kernelspec": {
   "display_name": "Python 3",
   "language": "python",
   "name": "python3"
  },
  "language_info": {
   "codemirror_mode": {
    "name": "ipython",
    "version": 3
   },
   "file_extension": ".py",
   "mimetype": "text/x-python",
   "name": "python",
   "nbconvert_exporter": "python",
   "pygments_lexer": "ipython3",
   "version": "3.8.8"
  }
 },
 "nbformat": 4,
 "nbformat_minor": 5
}
