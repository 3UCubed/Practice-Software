{
 "cells": [
  {
   "cell_type": "code",
   "execution_count": 1,
   "id": "c51193b4",
   "metadata": {},
   "outputs": [],
   "source": [
    "import numpy as np\n",
    "\n",
    "#countsf = np.core.records.fromfile('1983dec31.f06', formats='i1,i1,i2,i2,i2,(20,)i2,(20,)i2,i4,(9,)i4', names='one, two, three, four, five, six, seven, eight, nine', byteorder='<')"
   ]
  },
  {
   "cell_type": "code",
   "execution_count": 2,
   "id": "bf4d94e1",
   "metadata": {},
   "outputs": [],
   "source": [
    "#data from DMSP f13, ssj4 instrument, January 2000\n",
    "def Read_data(file_name):\n",
    "    recarray = np.core.records.fromfile(file_name, formats='i2,i2,i2,i2,i2,i2,i2,i2,i2,i2,i2,i2,i2,i2,i2,(2580,)i2,i2,(44,)i2', \n",
    "                                   names = '''day,hour,minute,second,year,geo_lat,geo_long,alt,lat_110,long_110,corrected_mlat,\n",
    "                                   corrected_mlong,mlt_hour,mlt_minute,mlt_second,channels,indicator,zero_fill''',byteorder='>')\n",
    "    return recarray\n",
    "counts1 = Read_data('j4f1300001')\n",
    "counts2 = Read_data('j4f1300002')"
   ]
  },
  {
   "cell_type": "code",
   "execution_count": 3,
   "id": "f9b0f955",
   "metadata": {},
   "outputs": [],
   "source": [
    "data = np.zeros((43,(len(counts1['channels'])),60),dtype = 'int16')\n",
    "i = 0\n",
    "for i in range(0,43):\n",
    "    data[i] += counts1['channels'][:,i:len(counts1['channels'][0]):43]\n",
    "    i += 1\n",
    "#print(data)"
   ]
  },
  {
   "cell_type": "code",
   "execution_count": 4,
   "id": "563b4301",
   "metadata": {},
   "outputs": [
    {
     "name": "stdout",
     "output_type": "stream",
     "text": [
      "[66.3 63.5 60.7 ... 23.7 25.9 28.3]\n"
     ]
    }
   ],
   "source": [
    "#One of the data pieces at the beginning of each minute of data is magnetic latitude, corrected for an altiude of 110km.\n",
    "#This is the value I want to filter the data by to limit my analysis to the cusp region. There is a conversion listed in the \n",
    "#documentation for getting the value in degrees. The following loop performs this conversion.\n",
    "mlat = np.zeros(len(counts1['corrected_mlat']))\n",
    "i = 0\n",
    "for i in range(len(counts1['corrected_mlat'])):\n",
    "    if counts1['corrected_mlat'][i] > 1800:\n",
    "        mlat[i] += float((counts1['corrected_mlat'][i]-4995))/10.0\n",
    "    else:\n",
    "        mlat[i] += float((counts1['corrected_mlat'][i]-900))/10.0\n",
    "    i += 1\n",
    "print(mlat)\n",
    "#The magnetic latitude is only given for each minute, but we have data for each second. Therefore I am going to create a loop\n",
    "#that repeats the last entry of magnetic latitude if the \"minute\" data entry is still the same. I can't just repeat the numbers\n",
    "#60 times each because the data is incomplete. This will match the dimensions of the magnetic latitude array to the data sets.\n",
    "\n",
    "#extended_mlat = np.zeros(len(data[1]))\n",
    "#i = 0 \n",
    "#j = 0\n",
    "#k = 0\n",
    "#for i in range(len(mlat)):\n",
    "#    extended_mlat[j] += mlat[i]\n",
    "#    j+=1\n",
    " #   if data[1,k] - data[1,k+1] = 0:\n",
    " #       extended_mlat[j] += mlat[i]\n",
    " #       k+=1\n",
    " #       j+=1\n",
    " #   i+=1\n",
    "\n",
    "#unique, counts = np.unique(data[1], return_counts=True)\n",
    "#print(counts)\n",
    "#sum(counts)"
   ]
  },
  {
   "cell_type": "code",
   "execution_count": 5,
   "id": "ef2a072f",
   "metadata": {
    "scrolled": true
   },
   "outputs": [],
   "source": [
    "#taking the polar cusp region to have a bounary of 76-82 degrees, the next loops will filter the data for this region by adding\n",
    "#the data to a new list if the magnetic latitude matches this region for that second of data.\n",
    "\n",
    "#new lists\n",
    "#ch_cusp = {}\n",
    "#for a in range (0,43):\n",
    "#    ch_cusp[a] = []\n",
    "\n",
    "#filtering loop\n",
    "#i = 0\n",
    "#j = 0\n",
    "#for j in range(0,43):\n",
    "#    for i in range(len(mag_lat_extended)): \n",
    "#        if mag_lat_extended[i] >= 76 and mag_lat_extended[i] <= 82:\n",
    "#            ch_cusp[j].append(ch[j][i])\n",
    "#        i+=1\n",
    "#    j+=1"
   ]
  },
  {
   "cell_type": "code",
   "execution_count": 6,
   "id": "e58f59d0",
   "metadata": {},
   "outputs": [],
   "source": [
    "#this loop converts the filtered data's timestamps from miliseconds to seconds, and non-negative values\n",
    "#i = 0\n",
    "#true_seconds = []\n",
    "#for i in range(len(ch_cusp[2])):\n",
    "#    value = ch[2][i]/1000\n",
    "#    if value < 0:\n",
    "#        value = value + 65\n",
    "#    i+=1\n",
    "#    true_seconds.append(value)"
   ]
  },
  {
   "cell_type": "code",
   "execution_count": null,
   "id": "ff3e51bf",
   "metadata": {},
   "outputs": [],
   "source": []
  }
 ],
 "metadata": {
  "kernelspec": {
   "display_name": "Python 3",
   "language": "python",
   "name": "python3"
  },
  "language_info": {
   "codemirror_mode": {
    "name": "ipython",
    "version": 3
   },
   "file_extension": ".py",
   "mimetype": "text/x-python",
   "name": "python",
   "nbconvert_exporter": "python",
   "pygments_lexer": "ipython3",
   "version": "3.8.8"
  }
 },
 "nbformat": 4,
 "nbformat_minor": 5
}
